{
 "cells": [
  {
   "cell_type": "code",
   "execution_count": null,
   "metadata": {
    "vscode": {
     "languageId": "plaintext"
    }
   },
   "outputs": [],
   "source": [
    "# Cell 1: Imports and display settings\n",
    "from fenics import *\n",
    "import numpy as np\n",
    "import matplotlib.pyplot as plt\n",
    "from IPython.display import clear_output\n"
   ]
  },
  {
   "cell_type": "code",
   "execution_count": null,
   "metadata": {
    "vscode": {
     "languageId": "plaintext"
    }
   },
   "outputs": [],
   "source": [
    "# Cell 2: Geometry Parameters\n",
    "radius = 1.83      # meters (12 ft diameter)\n",
    "height = 4.27      # meters (14 ft height)\n",
    "length = 1.83      # meters (symmetrical in z-direction)\n"
   ]
  },
  {
   "cell_type": "code",
   "execution_count": null,
   "metadata": {
    "vscode": {
     "languageId": "plaintext"
    }
   },
   "outputs": [],
   "source": [
    "# Cell 3: Mesh\n",
    "nx, ny, nz = 30, 60, 30\n",
    "mesh = BoxMesh(Point(0, 0, 0), Point(radius, height, length), nx, ny, nz)\n"
   ]
  },
  {
   "cell_type": "code",
   "execution_count": null,
   "metadata": {
    "vscode": {
     "languageId": "plaintext"
    }
   },
   "outputs": [],
   "source": [
    "# Cell 4: Function Spaces\n",
    "V = FunctionSpace(mesh, \"P\", 1)\n",
    "VV = VectorFunctionSpace(mesh, \"P\", 1)\n",
    "W = VectorFunctionSpace(mesh, \"P\", 2)\n",
    "Q = FunctionSpace(mesh, \"P\", 1)\n",
    "VWQ = MixedFunctionSpace([W, Q])\n"
   ]
  },
  {
   "cell_type": "code",
   "execution_count": null,
   "metadata": {
    "vscode": {
     "languageId": "plaintext"
    }
   },
   "outputs": [],
   "source": [
    "# Cell 5: Physical Constants\n",
    "mu_0 = 4 * np.pi * 1e-7\n",
    "T_c = 70\n",
    "sigma_SB = 5.67e-8\n",
    "q = 1.6e-19\n",
    "k = 10.0\n",
    "rho_cp = 1e6\n",
    "h_cool = 500.0\n",
    "emissivity = 0.9\n",
    "nu = 1e-6\n",
    "rho = 1e-5\n"
   ]
  },
  {
   "cell_type": "code",
   "execution_count": null,
   "metadata": {
    "vscode": {
     "languageId": "plaintext"
    }
   },
   "outputs": [],
   "source": [
    "# Cell 6: Time-Stepping\n",
    "dt = 0.05\n",
    "t_end = 600.0\n",
    "num_steps = int(t_end / dt)\n",
    "time = 0.0\n"
   ]
  },
  {
   "cell_type": "code",
   "execution_count": null,
   "metadata": {
    "vscode": {
     "languageId": "plaintext"
    }
   },
   "outputs": [],
   "source": [
    "# Cell 7: Initial Conditions\n",
    "T_n = interpolate(Expression(\"300.0 - 50.0*x[1]\", degree=1), V)\n",
    "T = Function(V)\n",
    "T.assign(T_n)\n",
    "\n",
    "up0 = Expression((\"0.0\", \"0.0\", \"0.0\"), degree=2)\n",
    "pp0 = Expression(\"0.0\", degree=1)\n",
    "up_init = interpolate(up0, W)\n",
    "pp_init = interpolate(pp0, Q)\n",
    "up_prev = Function(W)\n",
    "pp_prev = Function(Q)\n",
    "assign(up_prev, up_init)\n",
    "assign(pp_prev, pp_init)\n"
   ]
  },
  {
   "cell_type": "code",
   "execution_count": null,
   "metadata": {
    "vscode": {
     "languageId": "plaintext"
    }
   },
   "outputs": [],
   "source": [
    "# Cell 8: Source Fields\n",
    "rho_plasma = interpolate(Expression(\"1e-5 + 1e-6*sin(5*x[0])*cos(3*x[2])\", degree=2), V)\n",
    "\n",
    "J_coil = interpolate(Expression((\"1e6 * sin(8*pi*x[1]/height) * cos(2*pi*x[0]/radius)\",\n",
    "                                 \"1e6 * cos(8*pi*x[1]/height) * sin(2*pi*x[0]/radius)\",\n",
    "                                 \"0.0\"),\n",
    "                                height=height, radius=radius, degree=3), VV)\n",
    "\n",
    "A_trial = TrialFunction(VV)\n",
    "v_test = TestFunction(VV)\n",
    "a_m = inner(curl(A_trial), curl(v_test)) * dx / mu_0\n"
   ]
  },
  {
   "cell_type": "code",
   "execution_count": null,
   "metadata": {
    "vscode": {
     "languageId": "plaintext"
    }
   },
   "outputs": [],
   "source": [
    "# Cell 9: Variational Forms\n",
    "upq = Function(VWQ)\n",
    "(up, pp) = split(upq)\n",
    "(v, q) = TestFunctions(VWQ)\n",
    "\n",
    "J_plasma = q * rho * up\n",
    "J_total = project(J_plasma + J_coil, VV)\n",
    "\n",
    "L_m = inner(J_total, v_test) * dx\n",
    "A_sol = Function(VV)\n",
    "solve(a_m == L_m, A_sol)\n",
    "B_field = project(curl(A_sol), VV)\n",
    "\n",
    "f_L = cross(J_total, B_field)\n",
    "\n",
    "a_NS = (1/dt)*inner(up, v)*dx + inner(dot(grad(up), up_prev), v)*dx + \\\n",
    "       nu*inner(grad(up), grad(v))*dx - inner(pp, div(v))*dx + inner(f_L, v)*dx + \\\n",
    "       inner(div(up), q)*dx\n",
    "L_NS = (1/dt)*inner(up_prev, v)*dx\n"
   ]
  },
  {
   "cell_type": "code",
   "execution_count": null,
   "metadata": {
    "vscode": {
     "languageId": "plaintext"
    }
   },
   "outputs": [],
   "source": [
    "# Cell 10: Temperature Variational Problem\n",
    "T_trial = TrialFunction(V)\n",
    "T_test = TestFunction(V)\n",
    "f_L_mag = project(sqrt(dot(f_L, f_L)), V)\n",
    "\n",
    "a_T = (T_trial * T_test + dt * k * dot(grad(T_trial), grad(T_test)) +\n",
    "       dt * dot(up_sol, grad(T_trial)) * T_test) * dx\n",
    "\n",
    "L_T = (T_n * T_test - dt * h_cool * (T_trial - Constant(30.0)) * T_test / radius +\n",
    "       dt * f_L_mag * T_test) * dx\n"
   ]
  },
  {
   "cell_type": "code",
   "execution_count": null,
   "metadata": {
    "vscode": {
     "languageId": "plaintext"
    }
   },
   "outputs": [],
   "source": [
    "# Cell 11: Output Files\n",
    "vtkfile_T = File(\"output/Temperature.pvd\")\n",
    "vtkfile_B = File(\"output/MagneticField.pvd\")\n"
   ]
  },
  {
   "cell_type": "code",
   "execution_count": null,
   "metadata": {
    "vscode": {
     "languageId": "plaintext"
    }
   },
   "outputs": [],
   "source": [
    "# Cell 12: Time Loop\n",
    "for n in range(num_steps):\n",
    "    time += dt\n",
    "    print(f\"Time step {n+1}/{num_steps}, Time = {time:.2f} s\")\n",
    "\n",
    "    solve(lhs(a_NS) == rhs(L_NS), upq)\n",
    "    up_sol, pp_sol = upq.split()\n",
    "    assign(up_prev, up_sol)\n",
    "    assign(pp_prev, pp_sol)\n",
    "\n",
    "    J_plasma = q * rho * up_sol\n",
    "    J_total = project(J_plasma + J_coil, VV)\n",
    "    L_m = inner(J_total, v_test) * dx\n",
    "    solve(a_m == L_m, A_sol)\n",
    "    B_field = project(curl(A_sol), VV)\n",
    "    f_L = project(cross(J_total, B_field), VV)\n",
    "    f_L_mag = project(sqrt(dot(f_L, f_L)), V)\n",
    "\n",
    "    A_T, b_T = assemble_system(a_T, L_T)\n",
    "    solve(A_T, T.vector(), b_T)\n",
    "    T_n.assign(T)\n",
    "\n",
    "    if n % 50 == 0 or n == num_steps - 1:\n",
    "        clear_output(wait=True)\n",
    "        plt.figure(figsize=(12, 4))\n",
    "        plt.subplot(1, 2, 1)\n",
    "        c1 = plot(project(sqrt(dot(B_field, B_field)), V), title=\"|B| Field Strength\")\n",
    "        plt.colorbar(c1)\n",
    "        plt.xlabel(\"x\")\n",
    "        plt.ylabel(\"y\")\n",
    "\n",
    "        plt.subplot(1, 2, 2)\n",
    "        c2 = plot(T, title=\"Temperature\")\n",
    "        plt.colorbar(c2)\n",
    "        plt.xlabel(\"x\")\n",
    "        plt.ylabel(\"y\")\n",
    "        plt.suptitle(f\"Time: {time:.2f} s\")\n",
    "        plt.tight_layout()\n",
    "        plt.show()\n"
   ]
  },
  {
   "cell_type": "code",
   "execution_count": null,
   "metadata": {
    "vscode": {
     "languageId": "plaintext"
    }
   },
   "outputs": [],
   "source": [
    "# Cell 13: Final Visualization\n",
    "q_rad_expr = emissivity * sigma_SB * T**4\n",
    "q_rad = project(q_rad_expr, V)\n",
    "L_T += -dt * q_rad * T_test * dx\n",
    "\n",
    "plt.figure(figsize=(10, 4))\n",
    "c = plot(project(sqrt(dot(B_field, B_field)), V), title=\"Magnetic Field |B|\", cmap=\"plasma\")\n",
    "plt.colorbar(c)\n",
    "plt.xlabel(\"x\")\n",
    "plt.ylabel(\"y\")\n",
    "plt.show()\n"
   ]
  }
 ],
 "metadata": {
  "kernelspec": {
   "display_name": "Python 3",
   "language": "python",
   "name": "python3"
  },
  "language_info": {
   "name": "python",
   "version": "3.10"
  }
 },
 "nbformat": 4,
 "nbformat_minor": 2
}
